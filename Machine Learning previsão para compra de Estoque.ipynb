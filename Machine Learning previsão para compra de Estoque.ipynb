{
  "cells": [
    {
      "cell_type": "markdown",
      "metadata": {
        "id": "view-in-github",
        "colab_type": "text"
      },
      "source": [
        "<a href=\"https://colab.research.google.com/github/TonAraguahy/Machine-learning-Estoque-em-google-sheets/blob/main/Machine%20Learning%20previs%C3%A3o%20para%20compra%20de%20Estoque.ipynb\" target=\"_parent\"><img src=\"https://colab.research.google.com/assets/colab-badge.svg\" alt=\"Open In Colab\"/></a>"
      ]
    },
    {
      "cell_type": "markdown",
      "metadata": {
        "id": "4uTzyetE1WPB"
      },
      "source": [
        "Machine learning estoque\n"
      ]
    },
    {
      "cell_type": "code",
      "execution_count": null,
      "metadata": {
        "colab": {
          "base_uri": "https://localhost:8080/"
        },
        "id": "uCUi_eKBK0Dc",
        "outputId": "7b1ed92b-b535-4025-c0bd-4c6dfe01dee6"
      },
      "outputs": [
        {
          "output_type": "stream",
          "name": "stdout",
          "text": [
            "[[1, 0, 6, 1473, 640], [2, 0, 5, 1586, 944], [3, 0, 5, 2178, 127], [1, 0, 5, 0, 944], [2, 0, 4, 1538, 611], [2, 0, 4, 1538, 944], [2, 0, 4, 1793, 395], [2, 0, 4, 1793, 395], [2, 0, 4, 1792, 400], [2, 0, 4, 1794, 398], [1, 0, 3, 633, 888], [2, 0, 3, 1302, 615], [2, 0, 3, 982, 257], [2, 0, 3, 1793, 95], [3, 0, 3, 696, 395], [3, 0, 3, 1793, 127], [3, 0, 3, 1071, 83], [4, 0, 2, 2375, 888], [2, 0, 2, 1090, 888], [3, 0, 2, 1291, 640], [5, 0, 2, 363, 395], [3, 0, 1, 31, 888], [2, 0, 1, 1197, 449], [2, 0, 1, 1138, 615], [2, 0, 1, 571, 615], [7, 0, 1, 1741, 615], [2, 0, 1, 1559, 449], [4, 0, 0, 455, 615], [1, 0, 0, 383, 449], [6, 0, 0, 204, 257], [2, 1, 0, 749, 615], [1, 0, 7, 2905, 944], [3, 0, 7, 3741, 900], [5, 0, 7, 3128, 95], [3, 0, 7, 2338, 83], [2, 0, 7, 2905, 95], [5, 0, 6, 1911, 944]]\n",
            "[6, 5, 5, 5, 4, 4, 4, 4, 4, 4, 3, 3, 3, 3, 3, 3, 1, 2, 2, 2, 2, 1, 1, 1, 1, 1, 1, 0, 0, 0, 0, 7, 7, 5, 5, 5, 6]\n",
            "[[3, 0, 1, 0, 257], [4, 0, 1, 0, 640], [2, 0, 4, 0, 888], [4, 0, 2, 0, 615], [2, 0, 4, 0, 449], [3, 0, 3, 0, 6], [1, 0, 2, 1340, 257], [1, 0, 3, 1340, 640], [2, 1, 3, 1340, 888], [2, 0, 2, 1340, 615], [2, 0, 2, 1340, 449], [0, 0, 2, 1340, 6], [0, 0, 4, 1297, 257], [2, 0, 3, 1297, 640], [1, 0, 3, 1297, 888], [5, 0, 0, 1297, 615], [2, 0, 2, 1297, 449], [0, 0, 4, 1297, 6]]\n"
          ]
        }
      ],
      "source": [
        "# Todas importações necessarias, como não tenho API google optei por auth para acessar a conta atraves da liberação.\n",
        "from sklearn import tree\n",
        "from pydrive.auth import GoogleAuth\n",
        "from pydrive.drive import GoogleDrive\n",
        "from google.colab import auth\n",
        "from oauth2client.client import GoogleCredentials\n",
        "auth.authenticate_user()\n",
        "gauth = GoogleAuth()\n",
        "gauth.credentials = GoogleCredentials.get_application_default()\n",
        "drive = GoogleDrive(gauth)\n",
        "from google.colab import auth\n",
        "auth.authenticate_user()\n",
        "import pandas as pd\n",
        "import gspread\n",
        "from google.auth import default\n",
        "creds, _ = default()\n",
        "gc = gspread.authorize(creds)\n",
        "\n",
        "\n",
        "# abre a planilha e seleciona a primeira aba, no outro caso não há aba especifica.\n",
        "worksheet = gc.open('planilha1').worksheet('nome da aba')\n",
        "# nesse teste, como as variaveis são poucas, se usar a mesma base existente com muitos dados para tentar prever o comportamento, ironicamente começou a dar numeros viciados, então preferi atuar com uma base menor deixando essa base em outra planilha e ir treinando-a conforme achasse necessário. Geralmente esse não é o melhor metodo para reforçar o treinamento, mas para esse caso foi funcional.\n",
        "worksheet = gc.open('planilha2').worksheet('nome da aba')\n",
        "\n",
        "# obter todos os valores da planilha, se houver dados demais e estiver usando o colab mesmo, talvez tenha que separar mais os modulos\n",
        "rows = worksheet.get_all_values()\n",
        "rows2 = worksheet2.get_all_values()\n",
        "\n",
        "# remover a primeira linha (cabeçalho), se não houver é só tirar essa parte, não afetara o restante do codigo.\n",
        "header = rows.pop(0)\n",
        "header2 = rows2.pop(0)\n",
        "\n",
        "#nesse caso \"n\" serviu, pois em row1 e row2 que estão abaixo, tanto o range, quando o \"if row[n] são o mesmo numero, foi por acaso, mas acabou servindo. Dependendo da base, talvez tenha que tirar a variavel n e colocar os numeros correspondentes\"\n",
        "n = 5\n",
        "\n",
        "#Usando laço for para fazer a ação em todas as colunas, e usando a função \"del\" que deleta a coluna no calculo, usei del row 4 vezes em \"0\" pois quando apaga a primeira coluna, ele já calcula como se a segunda coluna fosse a primeira... por isso apaguei quatro vezes, pois na minha base de dados as quatro primeiras colunas não são para calculo, são na verdade strings.\n",
        "for row in rows:\n",
        "    del row[0]\n",
        "    del row[0]\n",
        "    del row[0]\n",
        "    del row[0]\n",
        "\n",
        "\n",
        "\n",
        "# busca entre [] os valores contidos em rows2 que é a segunda planilha, busca apenas valores existentes, transforma todos em int, por isso é importante verificar se não existe alguma string para não dar erro\n",
        "row1 = []\n",
        "for row in rows2:\n",
        "    if row[n]:\n",
        "        row1.append([int(row[i]) for i in range(n)])\n",
        "\n",
        "row2 = []\n",
        "for row in rows2:\n",
        "    if row[n]:\n",
        "        row2.append(int(row[n]))\n",
        "\n",
        "\n",
        "\n",
        "\n",
        "# criar lista com valores nulos na coluna 0, por isso o if está como if not row[0], pois nesse caso não existe a resposta, nesse caso especifico a resposta está na coluna A da planilha, perceba que em cima está na coluna da variavel \"n\" por isso foi necessário fazer o tratamento abaixo\n",
        "row3 = []\n",
        "for row in rows:\n",
        "    if not row[0]:\n",
        "        row3.append([int(row[i]) for i in range(1,6)]) \n",
        "\n",
        "# se estiver atuando com bases iguais, pode apenas ignorar essa etapa abaixo, porém no meu caso, eu preferi ter uma base menor de treinamento em que coloco manualmente os números que quero usar para treinar o comportamento da máquina, mas como as bases estão em ordens diferentes da primeira e segunda planilha, fiz o tratamento abaixo para que fiquem na mesma posição.\n",
        "\n",
        "new_row3 = []\n",
        "for row in row3:\n",
        "  #Ou seja olhando para baixo troquei a posição do row[4] para primeira posição e por ai vai. Essa é a mesma posição de row1 e row2\n",
        "    new_row = [row[4], row[0], row[1], row[2], row[3]]\n",
        "    new_row3.append(new_row)\n",
        "\n",
        "#como eu já havia feito todos os codigos antes com outra base e ideia como teste, preferi só tranformar a nova variavel em row3 para não precisar alterar os codigos de baixo\n",
        "row3 = new_row3\n",
        "\n",
        "\n",
        "print(row1)\n",
        "print(row2)\n",
        "print(row3)\n",
        "x = row1\n",
        "y = row2\n",
        "\n"
      ]
    },
    {
      "cell_type": "markdown",
      "metadata": {
        "id": "3ZjNJxeapA_w"
      },
      "source": [
        "ACURÁCIA DO PROJETO"
      ]
    },
    {
      "cell_type": "code",
      "execution_count": null,
      "metadata": {
        "id": "1NUcCW4wNsA6",
        "colab": {
          "base_uri": "https://localhost:8080/"
        },
        "outputId": "10062913-4bc8-44d8-e87f-c077a3c030c0"
      },
      "outputs": [
        {
          "output_type": "stream",
          "name": "stdout",
          "text": [
            "Acurácia: 1.0\n"
          ]
        }
      ],
      "source": [
        "#import pandas as pd\n",
        "#from sklearn.model_selection import train_test_split\n",
        "#from sklearn import tree\n",
        "#from sklearn.metrics import accuracy_score\n",
        "\n",
        "\n",
        "# Dividindo os dados em conjuntos de treinamento e teste\n",
        "#x_train, x_test, y_train, y_test = train_test_split(row1, row2, test_size=0.2)\n",
        "\n",
        "# Treinando o classificador\n",
        "#clf = tree.DecisionTreeRegressor()\n",
        "#clf = clf.fit(x_train, y_train)\n",
        "\n",
        "# Prevendo os resultados para os dados de teste\n",
        "#predicted = clf.predict(x_test)\n",
        "\n",
        "# Calculando a acurácia\n",
        "#accuracy = accuracy_score(y_test, predicted)\n",
        "\n",
        "# Imprimindo a acurácia\n",
        "#print('Acurácia:', accuracy)\n",
        "\n"
      ]
    },
    {
      "cell_type": "code",
      "execution_count": null,
      "metadata": {
        "colab": {
          "background_save": true,
          "base_uri": "https://localhost:8080/"
        },
        "id": "e_0rvxYro5Tf",
        "outputId": "a9026922-da0c-44a5-f29d-bc8cdc01b24f"
      },
      "outputs": [
        {
          "name": "stdout",
          "output_type": "stream",
          "text": [
            "3.0\n"
          ]
        },
        {
          "data": {
            "text/plain": [
              "{'spreadsheetId': '1nCQbl3evmTGG2_A80haJ7AfR_QVjO5rCWMrvTxeeaMI',\n",
              " 'updatedRange': 'repartir!E2',\n",
              " 'updatedRows': 1,\n",
              " 'updatedColumns': 1,\n",
              " 'updatedCells': 1}"
            ]
          },
          "execution_count": 66,
          "metadata": {},
          "output_type": "execute_result"
        }
      ],
      "source": [
        "#começa a treinar os dados e fazer a previsão dos dados vazios em row3\n",
        "clf = tree.DecisionTreeRegressor()\n",
        "clf = clf.fit(x, y)\n",
        "\n",
        "test = row3\n",
        "\n",
        "result= (clf.predict(test))\n",
        "\n",
        "print(result)\n",
        "import time\n",
        "\n",
        "# Encontrar os índices dos espaços vazios na coluna, no inicio era coluna h\n",
        "h_column = worksheet.col_values(5)\n",
        "empty_indices = [i for i, value in enumerate(h_column) if not value]\n",
        "\n",
        "# Atualizar as células vazias na coluna H com os valores de predicted_target, ou seja, começara a escrever na planilha o resultado\n",
        "updates = []\n",
        "for i, value in enumerate(result):\n",
        "  if i in empty_indices:\n",
        "    cell = worksheet.cell(i+2, 5)\n",
        "    cell.value = value\n",
        "    worksheet.update_cell(i+2, 5, value)\n",
        "    #começou a dar muito erro pois o google coloca uma trava para que não faça x acessos por minuto, então precisei colocar esse temporizados de 0.1, talvez tenha que aumentar se o erro voltar no futuro\n",
        "    time.sleep(0.1)\n",
        "\n",
        "#por algum motivo o codigo acima ignora a linha 2, então coloquei manualmente para que result[0] que é o primeiro resultado, entre na linha 2 da coluna 5.\n",
        "worksheet.update_cell(2, 5, result[0])\n",
        "\n",
        "    \n"
      ]
    },
    {
      "cell_type": "markdown",
      "metadata": {
        "id": "E-UyKQ70Ykbo"
      },
      "source": [
        "SK learn Energy\n"
      ]
    }
  ],
  "metadata": {
    "colab": {
      "provenance": [],
      "include_colab_link": true
    },
    "kernelspec": {
      "display_name": "Python 3",
      "language": "python",
      "name": "python3"
    },
    "language_info": {
      "codemirror_mode": {
        "name": "ipython",
        "version": 3
      },
      "file_extension": ".py",
      "mimetype": "text/x-python",
      "name": "python",
      "nbconvert_exporter": "python",
      "pygments_lexer": "ipython3",
      "version": "3.8.5"
    },
    "toc": {
      "base_numbering": 1,
      "nav_menu": {},
      "number_sections": false,
      "sideBar": true,
      "skip_h1_title": false,
      "title_cell": "Table of Contents",
      "title_sidebar": "Contents",
      "toc_cell": false,
      "toc_position": {
        "height": "calc(100% - 180px)",
        "left": "10px",
        "top": "150px",
        "width": "268.2px"
      },
      "toc_section_display": true,
      "toc_window_display": false
    },
    "varInspector": {
      "cols": {
        "lenName": 16,
        "lenType": 16,
        "lenVar": 40
      },
      "kernels_config": {
        "python": {
          "delete_cmd_postfix": "",
          "delete_cmd_prefix": "del ",
          "library": "var_list.py",
          "varRefreshCmd": "print(var_dic_list())"
        },
        "r": {
          "delete_cmd_postfix": ") ",
          "delete_cmd_prefix": "rm(",
          "library": "var_list.r",
          "varRefreshCmd": "cat(var_dic_list()) "
        }
      },
      "types_to_exclude": [
        "module",
        "function",
        "builtin_function_or_method",
        "instance",
        "_Feature"
      ],
      "window_display": false
    }
  },
  "nbformat": 4,
  "nbformat_minor": 0
}